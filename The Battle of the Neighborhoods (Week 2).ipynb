{
    "cells": [
        {
            "cell_type": "markdown",
            "metadata": {
                "collapsed": true
            },
            "source": "##  Neighborhood Candidates\nLet's create latitude & longitude coordinates for centroids of our candidate neighborhoods. We will create a grid of cells covering our area of interest which is aprox. 12x12 killometers centered around Berlin city center.\n\nLet's first find the latitude & longitude of Berlin city center, using specific, well known address and Google Maps geocoding API."
        },
        {
            "cell_type": "code",
            "execution_count": null,
            "metadata": {},
            "outputs": [],
            "source": "import requests\n\ndef get_coordinates(api_key, address, verbose=False):\n    try:\n        url = 'https://maps.googleapis.com/maps/api/geocode/json?key={}&address={}'.format(api_key, address)\n        response = requests.get(url).json()\n        if verbose:\n            print('Google Maps API JSON result =>', response)\n        results = response['results']\n        geographical_data = results[0]['geometry']['location'] # get geographical coordinates\n        lat = geographical_data['lat']\n        lon = geographical_data['lng']\n        return [lat, lon]\n    except:\n        return [None, None]\n    \naddress = 'Alexanderplatz, Berlin, Germany'\nberlin_center = get_coordinates(google_api_key, address)\nprint('Coordinate of {}: {}'.format(address, berlin_center))"
        },
        {
            "cell_type": "code",
            "execution_count": null,
            "metadata": {},
            "outputs": [],
            "source": "#!pip install shapely\nimport shapely.geometry\n\n#!pip install pyproj\nimport pyproj\n\nimport math\n\ndef lonlat_to_xy(lon, lat):\n    proj_latlon = pyproj.Proj(proj='latlong',datum='WGS84')\n    proj_xy = pyproj.Proj(proj=\"utm\", zone=33, datum='WGS84')\n    xy = pyproj.transform(proj_latlon, proj_xy, lon, lat)\n    return xy[0], xy[1]\n\ndef xy_to_lonlat(x, y):\n    proj_latlon = pyproj.Proj(proj='latlong',datum='WGS84')\n    proj_xy = pyproj.Proj(proj=\"utm\", zone=33, datum='WGS84')\n    lonlat = pyproj.transform(proj_xy, proj_latlon, x, y)\n    return lonlat[0], lonlat[1]\n\ndef calc_xy_distance(x1, y1, x2, y2):\n    dx = x2 - x1\n    dy = y2 - y1\n    return math.sqrt(dx*dx + dy*dy)\n\nprint('Coordinate transformation check')\nprint('-------------------------------')\nprint('Berlin center longitude={}, latitude={}'.format(berlin_center[1], berlin_center[0]))\nx, y = lonlat_to_xy(berlin_center[1], berlin_center[0])\nprint('Berlin center UTM X={}, Y={}'.format(x, y))\nlo, la = xy_to_lonlat(x, y)\nprint('Berlin center longitude={}, latitude={}'.format(lo, la))"
        },
        {
            "cell_type": "code",
            "execution_count": null,
            "metadata": {},
            "outputs": [],
            "source": "berlin_center_x, berlin_center_y = lonlat_to_xy(berlin_center[1], berlin_center[0]) # City center in Cartesian coordinates\n\nk = math.sqrt(3) / 2 # Vertical offset for hexagonal grid cells\nx_min = berlin_center_x - 6000\nx_step = 600\ny_min = berlin_center_y - 6000 - (int(21/k)*k*600 - 12000)/2\ny_step = 600 * k \n\nlatitudes = []\nlongitudes = []\ndistances_from_center = []\nxs = []\nys = []\nfor i in range(0, int(21/k)):\n    y = y_min + i * y_step\n    x_offset = 300 if i%2==0 else 0\n    for j in range(0, 21):\n        x = x_min + j * x_step + x_offset\n        distance_from_center = calc_xy_distance(berlin_center_x, berlin_center_y, x, y)\n        if (distance_from_center <= 6001):\n            lon, lat = xy_to_lonlat(x, y)\n            latitudes.append(lat)\n            longitudes.append(lon)\n            distances_from_center.append(distance_from_center)\n            xs.append(x)\n            ys.append(y)\n\nprint(len(latitudes), 'candidate neighborhood centers generated.')"
        },
        {
            "cell_type": "code",
            "execution_count": null,
            "metadata": {},
            "outputs": [],
            "source": "#!pip install folium\n\nimport folium"
        },
        {
            "cell_type": "code",
            "execution_count": null,
            "metadata": {},
            "outputs": [],
            "source": "map_berlin = folium.Map(location=berlin_center, zoom_start=13)\nfolium.Marker(berlin_center, popup='Alexanderplatz').add_to(map_berlin)\nfor lat, lon in zip(latitudes, longitudes):\n    #folium.CircleMarker([lat, lon], radius=2, color='blue', fill=True, fill_color='blue', fill_opacity=1).add_to(map_berlin) \n    folium.Circle([lat, lon], radius=300, color='blue', fill=False).add_to(map_berlin)\n    #folium.Marker([lat, lon]).add_to(map_berlin)\nmap_berli"
        },
        {
            "cell_type": "code",
            "execution_count": null,
            "metadata": {},
            "outputs": [],
            "source": "def get_address(api_key, latitude, longitude, verbose=False):\n    try:\n        url = 'https://maps.googleapis.com/maps/api/geocode/json?key={}&latlng={},{}'.format(api_key, latitude, longitude)\n        response = requests.get(url).json()\n        if verbose:\n            print('Google Maps API JSON result =>', response)\n        results = response['results']\n        address = results[0]['formatted_address']\n        return address\n    except:\n        return None\n\naddr = get_address(google_api_key, berlin_center[0], berlin_center[1])\nprint('Reverse geocoding check')\nprint('-----------------------')\nprint('Address of [{}, {}] is: {}'.format(berlin_center[0], berlin_center[1], addr))"
        },
        {
            "cell_type": "code",
            "execution_count": null,
            "metadata": {},
            "outputs": [],
            "source": "print('Obtaining location addresses: ', end='')\naddresses = []\nfor lat, lon in zip(latitudes, longitudes):\n    address = get_address(google_api_key, lat, lon)\n    if address is None:\n        address = 'NO ADDRESS'\n    address = address.replace(', Germany', '') # We don't need country part of address\n    addresses.append(address)\n    print(' .', end='')\nprint(' done.')"
        },
        {
            "cell_type": "code",
            "execution_count": null,
            "metadata": {},
            "outputs": [],
            "source": "addresses[150:170]"
        },
        {
            "cell_type": "code",
            "execution_count": null,
            "metadata": {},
            "outputs": [],
            "source": "import pandas as pd\n\ndf_locations = pd.DataFrame({'Address': addresses,\n                             'Latitude': latitudes,\n                             'Longitude': longitudes,\n                             'X': xs,\n                             'Y': ys,\n                             'Distance from center': distances_from_center})\n\ndf_locations.head(10)"
        },
        {
            "cell_type": "code",
            "execution_count": null,
            "metadata": {},
            "outputs": [],
            "source": "df_locations.to_pickle('./locations.pkl')"
        },
        {
            "cell_type": "code",
            "execution_count": null,
            "metadata": {},
            "outputs": [],
            "source": "# Category IDs corresponding to Italian restaurants were taken from Foursquare web site (https://developer.foursquare.com/docs/resources/categories):\n\nfood_category = '4d4b7105d754a06374d81259' # 'Root' category for all food-related venues\n\nitalian_restaurant_categories = ['4bf58dd8d48988d110941735','55a5a1ebe4b013909087cbb6','55a5a1ebe4b013909087cb7c',\n                                 '55a5a1ebe4b013909087cba7','55a5a1ebe4b013909087cba1','55a5a1ebe4b013909087cba4',\n                                 '55a5a1ebe4b013909087cb95','55a5a1ebe4b013909087cb89','55a5a1ebe4b013909087cb9b',\n                                 '55a5a1ebe4b013909087cb98','55a5a1ebe4b013909087cbbf','55a5a1ebe4b013909087cb79',\n                                 '55a5a1ebe4b013909087cbb0','55a5a1ebe4b013909087cbb3','55a5a1ebe4b013909087cb74',\n                                 '55a5a1ebe4b013909087cbaa','55a5a1ebe4b013909087cb83','55a5a1ebe4b013909087cb8c',\n                                 '55a5a1ebe4b013909087cb92','55a5a1ebe4b013909087cb8f','55a5a1ebe4b013909087cb86',\n                                 '55a5a1ebe4b013909087cbb9','55a5a1ebe4b013909087cb7f','55a5a1ebe4b013909087cbbc',\n                                 '55a5a1ebe4b013909087cb9e','55a5a1ebe4b013909087cbc2','55a5a1ebe4b013909087cbad']\n\ndef is_restaurant(categories, specific_filter=None):\n    restaurant_words = ['restaurant', 'diner', 'taverna', 'steakhouse']\n    restaurant = False\n    specific = False\n    for c in categories:\n        category_name = c[0].lower()\n        category_id = c[1]\n        for r in restaurant_words:\n            if r in category_name:\n                restaurant = True\n        if 'fast food' in category_name:\n            restaurant = False\n        if not(specific_filter is None) and (category_id in specific_filter):\n            specific = True\n            restaurant = True\n    return restaurant, specific\n\ndef get_categories(categories):\n    return [(cat['name'], cat['id']) for cat in categories]\n\ndef format_address(location):\n    address = ', '.join(location['formattedAddress'])\n    address = address.replace(', Deutschland', '')\n    address = address.replace(', Germany', '')\n    return address\n\ndef get_venues_near_location(lat, lon, category, client_id, client_secret, radius=500, limit=100):\n    version = '20180724'\n    url = 'https://api.foursquare.com/v2/venues/explore?client_id={}&client_secret={}&v={}&ll={},{}&categoryId={}&radius={}&limit={}'.format(\n        client_id, client_secret, version, lat, lon, category, radius, limit)\n    try:\n        results = requests.get(url).json()['response']['groups'][0]['items']\n        venues = [(item['venue']['id'],\n                   item['venue']['name'],\n                   get_categories(item['venue']['categories']),\n                   (item['venue']['location']['lat'], item['venue']['location']['lng']),\n                   format_address(item['venue']['location']),\n                   item['venue']['location']['distance']) for item in results]        \n    except:\n        venues = []\n    return venues"
        },
        {
            "cell_type": "code",
            "execution_count": null,
            "metadata": {},
            "outputs": [],
            "source": "import pickle\n\ndef get_restaurants(lats, lons):\n    restaurants = {}\n    italian_restaurants = {}\n    location_restaurants = []\n\n    print('Obtaining venues around candidate locations:', end='')\n    for lat, lon in zip(lats, lons):\n        # Using radius=350 to meke sure we have overlaps/full coverage so we don't miss any restaurant (we're using dictionaries to remove any duplicates resulting from area overlaps)\n        venues = get_venues_near_location(lat, lon, food_category, foursquare_client_id, foursquare_client_secret, radius=350, limit=100)\n        area_restaurants = []\n        for venue in venues:\n            venue_id = venue[0]\n            venue_name = venue[1]\n            venue_categories = venue[2]\n            venue_latlon = venue[3]\n            venue_address = venue[4]\n            venue_distance = venue[5]\n            is_res, is_italian = is_restaurant(venue_categories, specific_filter=italian_restaurant_categories)\n            if is_res:\n                x, y = lonlat_to_xy(venue_latlon[1], venue_latlon[0])\n                restaurant = (venue_id, venue_name, venue_latlon[0], venue_latlon[1], venue_address, venue_distance, is_italian, x, y)\n                if venue_distance<=300:\n                    area_restaurants.append(restaurant)\n                restaurants[venue_id] = restaurant\n                if is_italian:\n                    italian_restaurants[venue_id] = restaurant\n        location_restaurants.append(area_restaurants)\n        print(' .', end='')\n    print(' done.')\n    return restaurants, italian_restaurants, location_restaurants\n\n# Try to load from local file system in case we did this before\nrestaurants = {}\nitalian_restaurants = {}\nlocation_restaurants = []\nloaded = False\ntry:\n    with open('restaurants_350.pkl', 'rb') as f:\n        restaurants = pickle.load(f)\n    with open('italian_restaurants_350.pkl', 'rb') as f:\n        italian_restaurants = pickle.load(f)\n    with open('location_restaurants_350.pkl', 'rb') as f:\n        location_restaurants = pickle.load(f)\n    print('Restaurant data loaded.')\n    loaded = True\nexcept:\n    pass\n\n# If load failed use the Foursquare API to get the data\nif not loaded:\n    restaurants, italian_restaurants, location_restaurants = get_restaurants(latitudes, longitudes)\n    \n    # Let's persists this in local file system\n    with open('restaurants_350.pkl', 'wb') as f:\n        pickle.dump(restaurants, f)\n    with open('italian_restaurants_350.pkl', 'wb') as f:\n        pickle.dump(italian_restaurants, f)\n    with open('location_restaurants_350.pkl', 'wb') as f:\n        pickle.dump(location_restaurants, f)"
        },
        {
            "cell_type": "code",
            "execution_count": null,
            "metadata": {},
            "outputs": [],
            "source": "import numpy as np\n\nprint('Total number of restaurants:', len(restaurants))\nprint('Total number of Italian restaurants:', len(italian_restaurants))\nprint('Percentage of Italian restaurants: {:.2f}%'.format(len(italian_restaurants) / len(restaurants) * 100))\nprint('Average number of restaurants in neighborhood:', np.array([len(r) for r in location_restaurants]).mean())"
        },
        {
            "cell_type": "code",
            "execution_count": null,
            "metadata": {},
            "outputs": [],
            "source": "print('List of all restaurants')\nprint('-----------------------')\nfor r in list(restaurants.values())[:10]:\n    print(r)\nprint('...')\nprint('Total:', len(restaurants))"
        },
        {
            "cell_type": "code",
            "execution_count": null,
            "metadata": {},
            "outputs": [],
            "source": "print('List of Italian restaurants')\nprint('---------------------------')\nfor r in list(italian_restaurants.values())[:10]:\n    print(r)\nprint('...')\nprint('Total:', len(italian_restaurants))"
        },
        {
            "cell_type": "code",
            "execution_count": null,
            "metadata": {},
            "outputs": [],
            "source": "print('Restaurants around location')\nprint('---------------------------')\nfor i in range(100, 110):\n    rs = location_restaurants[i][:8]\n    names = ', '.join([r[1] for r in rs])\n    print('Restaurants around location {}: {}'.format(i+1, names))"
        },
        {
            "cell_type": "code",
            "execution_count": null,
            "metadata": {},
            "outputs": [],
            "source": "map_berlin = folium.Map(location=berlin_center, zoom_start=13)\nfolium.Marker(berlin_center, popup='Alexanderplatz').add_to(map_berlin)\nfor res in restaurants.values():\n    lat = res[2]; lon = res[3]\n    is_italian = res[6]\n    color = 'red' if is_italian else 'blue'\n    folium.CircleMarker([lat, lon], radius=3, color=color, fill=True, fill_color=color, fill_opacity=1).add_to(map_berlin)\nmap_berlin"
        },
        {
            "cell_type": "markdown",
            "metadata": {},
            "source": "## Methodology \nIn this project we will direct our efforts on detecting areas of Berlin that have low restaurant density, particularly those with low number of Italian restaurants. We will limit our analysis to area ~6km around city center.\n\nIn first step we have collected the required data: location and type (category) of every restaurant within 6km from Berlin center (Alexanderplatz). We have also identified Italian restaurants (according to Foursquare categorization).\n\nSecond step in our analysis will be calculation and exploration of 'restaurant density' across different areas of Berlin - we will use heatmaps to identify a few promising areas close to center with low number of restaurants in general (and no Italian restaurants in vicinity) and focus our attention on those areas.\n\nIn third and final step we will focus on most promising areas and within those create clusters of locations that meet some basic requirements established in discussion with stakeholders: we will take into consideration locations with no more than two restaurants in radius of 250 meters, and we want locations without Italian restaurants in radius of 400 meters. We will present map of all such locations but also create clusters (using k-means clustering) of those locations to identify general zones / neighborhoods / addresses which should be a starting point for final 'street level' exploration and search for optimal venue location by stakeholders."
        },
        {
            "cell_type": "code",
            "execution_count": null,
            "metadata": {},
            "outputs": [],
            "source": "location_restaurants_count = [len(res) for res in location_restaurants]\n\ndf_locations['Restaurants in area'] = location_restaurants_count\n\nprint('Average number of restaurants in every area with radius=300m:', np.array(location_restaurants_count).mean())\n\ndf_locations.head(10)"
        },
        {
            "cell_type": "code",
            "execution_count": null,
            "metadata": {},
            "outputs": [],
            "source": "distances_to_italian_restaurant = []\n\nfor area_x, area_y in zip(xs, ys):\n    min_distance = 10000\n    for res in italian_restaurants.values():\n        res_x = res[7]\n        res_y = res[8]\n        d = calc_xy_distance(area_x, area_y, res_x, res_y)\n        if d<min_distance:\n            min_distance = d\n    distances_to_italian_restaurant.append(min_distance)\n\ndf_locations['Distance to Italian restaurant'] = distances_to_italian_restaurant"
        },
        {
            "cell_type": "code",
            "execution_count": null,
            "metadata": {},
            "outputs": [],
            "source": "df_locations.head(10)"
        },
        {
            "cell_type": "code",
            "execution_count": null,
            "metadata": {},
            "outputs": [],
            "source": "print('Average distance to closest Italian restaurant from each area center:', df_locations['Distance to Italian restaurant'].mean())"
        },
        {
            "cell_type": "code",
            "execution_count": null,
            "metadata": {},
            "outputs": [],
            "source": "berlin_boroughs_url = 'https://raw.githubusercontent.com/m-hoerz/berlin-shapes/master/berliner-bezirke.geojson'\nberlin_boroughs = requests.get(berlin_boroughs_url).json()\n\ndef boroughs_style(feature):\n    return { 'color': 'blue', 'fill': False }"
        },
        {
            "cell_type": "code",
            "execution_count": null,
            "metadata": {},
            "outputs": [],
            "source": "from folium import plugins\nfrom folium.plugins import HeatMap\n\nmap_berlin = folium.Map(location=berlin_center, zoom_start=13)\nfolium.TileLayer('cartodbpositron').add_to(map_berlin) #cartodbpositron cartodbdark_matter\nHeatMap(restaurant_latlons).add_to(map_berlin)\nfolium.Marker(berlin_center).add_to(map_berlin)\nfolium.Circle(berlin_center, radius=1000, fill=False, color='white').add_to(map_berlin)\nfolium.Circle(berlin_center, radius=2000, fill=False, color='white').add_to(map_berlin)\nfolium.Circle(berlin_center, radius=3000, fill=False, color='white').add_to(map_berlin)\nfolium.GeoJson(berlin_boroughs, style_function=boroughs_style, name='geojson').add_to(map_berlin)\nmap_berlin"
        },
        {
            "cell_type": "code",
            "execution_count": null,
            "metadata": {},
            "outputs": [],
            "source": "map_berlin = folium.Map(location=berlin_center, zoom_start=13)\nfolium.TileLayer('cartodbpositron').add_to(map_berlin) #cartodbpositron cartodbdark_matter\nHeatMap(italian_latlons).add_to(map_berlin)\nfolium.Marker(berlin_center).add_to(map_berlin)\nfolium.Circle(berlin_center, radius=1000, fill=False, color='white').add_to(map_berlin)\nfolium.Circle(berlin_center, radius=2000, fill=False, color='white').add_to(map_berlin)\nfolium.Circle(berlin_center, radius=3000, fill=False, color='white').add_to(map_berlin)\nfolium.GeoJson(berlin_boroughs, style_function=boroughs_style, name='geojson').add_to(map_berlin)\nmap_berlin"
        },
        {
            "cell_type": "code",
            "execution_count": null,
            "metadata": {},
            "outputs": [],
            "source": "roi_x_min = berlin_center_x - 2000\nroi_y_max = berlin_center_y + 1000\nroi_width = 5000\nroi_height = 5000\nroi_center_x = roi_x_min + 2500\nroi_center_y = roi_y_max - 2500\nroi_center_lon, roi_center_lat = xy_to_lonlat(roi_center_x, roi_center_y)\nroi_center = [roi_center_lat, roi_center_lon]\n\nmap_berlin = folium.Map(location=roi_center, zoom_start=14)\nHeatMap(restaurant_latlons).add_to(map_berlin)\nfolium.Marker(berlin_center).add_to(map_berlin)\nfolium.Circle(roi_center, radius=2500, color='white', fill=True, fill_opacity=0.4).add_to(map_berlin)\nfolium.GeoJson(berlin_boroughs, style_function=boroughs_style, name='geojson').add_to(map_berlin)\nmap_berlin"
        },
        {
            "cell_type": "code",
            "execution_count": null,
            "metadata": {},
            "outputs": [],
            "source": "k = math.sqrt(3) / 2 # Vertical offset for hexagonal grid cells\nx_step = 100\ny_step = 100 * k \nroi_y_min = roi_center_y - 2500\n\nroi_latitudes = []\nroi_longitudes = []\nroi_xs = []\nroi_ys = []\nfor i in range(0, int(51/k)):\n    y = roi_y_min + i * y_step\n    x_offset = 50 if i%2==0 else 0\n    for j in range(0, 51):\n        x = roi_x_min + j * x_step + x_offset\n        d = calc_xy_distance(roi_center_x, roi_center_y, x, y)\n        if (d <= 2501):\n            lon, lat = xy_to_lonlat(x, y)\n            roi_latitudes.append(lat)\n            roi_longitudes.append(lon)\n            roi_xs.append(x)\n            roi_ys.append(y)\n\nprint(len(roi_latitudes), 'candidate neighborhood centers generated.')"
        },
        {
            "cell_type": "code",
            "execution_count": null,
            "metadata": {},
            "outputs": [],
            "source": "def count_restaurants_nearby(x, y, restaurants, radius=250):    \n    count = 0\n    for res in restaurants.values():\n        res_x = res[7]; res_y = res[8]\n        d = calc_xy_distance(x, y, res_x, res_y)\n        if d<=radius:\n            count += 1\n    return count\n\ndef find_nearest_restaurant(x, y, restaurants):\n    d_min = 100000\n    for res in restaurants.values():\n        res_x = res[7]; res_y = res[8]\n        d = calc_xy_distance(x, y, res_x, res_y)\n        if d<=d_min:\n            d_min = d\n    return d_min\n\nroi_restaurant_counts = []\nroi_italian_distances = []\n\nprint('Generating data on location candidates... ', end='')\nfor x, y in zip(roi_xs, roi_ys):\n    count = count_restaurants_nearby(x, y, restaurants, radius=250)\n    roi_restaurant_counts.append(count)\n    distance = find_nearest_restaurant(x, y, italian_restaurants)\n    roi_italian_distances.append(distance)\nprint('done.')"
        },
        {
            "cell_type": "code",
            "execution_count": null,
            "metadata": {},
            "outputs": [],
            "source": "df_roi_locations = pd.DataFrame({'Latitude':roi_latitudes,\n                                 'Longitude':roi_longitudes,\n                                 'X':roi_xs,\n                                 'Y':roi_ys,\n                                 'Restaurants nearby':roi_restaurant_counts,\n                                 'Distance to Italian restaurant':roi_italian_distances})\n\ndf_roi_locations.head(10)"
        },
        {
            "cell_type": "code",
            "execution_count": null,
            "metadata": {},
            "outputs": [],
            "source": "good_res_count = np.array((df_roi_locations['Restaurants nearby']<=2))\nprint('Locations with no more than two restaurants nearby:', good_res_count.sum())\n\ngood_ita_distance = np.array(df_roi_locations['Distance to Italian restaurant']>=400)\nprint('Locations with no Italian restaurants within 400m:', good_ita_distance.sum())\n\ngood_locations = np.logical_and(good_res_count, good_ita_distance)\nprint('Locations with both conditions met:', good_locations.sum())\n\ndf_good_locations = df_roi_locations[good_locations]"
        },
        {
            "cell_type": "code",
            "execution_count": null,
            "metadata": {},
            "outputs": [],
            "source": "good_latitudes = df_good_locations['Latitude'].values\ngood_longitudes = df_good_locations['Longitude'].values\n\ngood_locations = [[lat, lon] for lat, lon in zip(good_latitudes, good_longitudes)]\n\nmap_berlin = folium.Map(location=roi_center, zoom_start=14)\nfolium.TileLayer('cartodbpositron').add_to(map_berlin)\nHeatMap(restaurant_latlons).add_to(map_berlin)\nfolium.Circle(roi_center, radius=2500, color='white', fill=True, fill_opacity=0.6).add_to(map_berlin)\nfolium.Marker(berlin_center).add_to(map_berlin)\nfor lat, lon in zip(good_latitudes, good_longitudes):\n    folium.CircleMarker([lat, lon], radius=2, color='blue', fill=True, fill_color='blue', fill_opacity=1).add_to(map_berlin) \nfolium.GeoJson(berlin_boroughs, style_function=boroughs_style, name='geojson').add_to(map_berlin)\nmap_berlin"
        },
        {
            "cell_type": "code",
            "execution_count": null,
            "metadata": {},
            "outputs": [],
            "source": "map_berlin = folium.Map(location=roi_center, zoom_start=14)\nHeatMap(good_locations, radius=25).add_to(map_berlin)\nfolium.Marker(berlin_center).add_to(map_berlin)\nfor lat, lon in zip(good_latitudes, good_longitudes):\n    folium.CircleMarker([lat, lon], radius=2, color='blue', fill=True, fill_color='blue', fill_opacity=1).add_to(map_berlin)\nfolium.GeoJson(berlin_boroughs, style_function=boroughs_style, name='geojson').add_to(map_berlin)\nmap_berlin"
        },
        {
            "cell_type": "code",
            "execution_count": null,
            "metadata": {},
            "outputs": [],
            "source": "from sklearn.cluster import KMeans\n\nnumber_of_clusters = 15\n\ngood_xys = df_good_locations[['X', 'Y']].values\nkmeans = KMeans(n_clusters=number_of_clusters, random_state=0).fit(good_xys)\n\ncluster_centers = [xy_to_lonlat(cc[0], cc[1]) for cc in kmeans.cluster_centers_]\n\nmap_berlin = folium.Map(location=roi_center, zoom_start=14)\nfolium.TileLayer('cartodbpositron').add_to(map_berlin)\nHeatMap(restaurant_latlons).add_to(map_berlin)\nfolium.Circle(roi_center, radius=2500, color='white', fill=True, fill_opacity=0.4).add_to(map_berlin)\nfolium.Marker(berlin_center).add_to(map_berlin)\nfor lon, lat in cluster_centers:\n    folium.Circle([lat, lon], radius=500, color='green', fill=True, fill_opacity=0.25).add_to(map_berlin) \nfor lat, lon in zip(good_latitudes, good_longitudes):\n    folium.CircleMarker([lat, lon], radius=2, color='blue', fill=True, fill_color='blue', fill_opacity=1).add_to(map_berlin)\nfolium.GeoJson(berlin_boroughs, style_function=boroughs_style, name='geojson').add_to(map_berlin)\nmap_berlin"
        },
        {
            "cell_type": "code",
            "execution_count": null,
            "metadata": {},
            "outputs": [],
            "source": "map_berlin = folium.Map(location=roi_center, zoom_start=14)\nfolium.Marker(berlin_center).add_to(map_berlin)\nfor lat, lon in zip(good_latitudes, good_longitudes):\n    folium.Circle([lat, lon], radius=250, color='#00000000', fill=True, fill_color='#0066ff', fill_opacity=0.07).add_to(map_berlin)\nfor lat, lon in zip(good_latitudes, good_longitudes):\n    folium.CircleMarker([lat, lon], radius=2, color='blue', fill=True, fill_color='blue', fill_opacity=1).add_to(map_berlin)\nfor lon, lat in cluster_centers:\n    folium.Circle([lat, lon], radius=500, color='green', fill=False).add_to(map_berlin) \nfolium.GeoJson(berlin_boroughs, style_function=boroughs_style, name='geojson').add_to(map_berlin)\nmap_berlin"
        },
        {
            "cell_type": "code",
            "execution_count": null,
            "metadata": {},
            "outputs": [],
            "source": "map_berlin = folium.Map(location=[52.498972, 13.409591], zoom_start=15)\nfolium.Marker(berlin_center).add_to(map_berlin)\nfor lon, lat in cluster_centers:\n    folium.Circle([lat, lon], radius=500, color='green', fill=False).add_to(map_berlin) \nfor lat, lon in zip(good_latitudes, good_longitudes):\n    folium.Circle([lat, lon], radius=250, color='#0000ff00', fill=True, fill_color='#0066ff', fill_opacity=0.07).add_to(map_berlin)\nfor lat, lon in zip(good_latitudes, good_longitudes):\n    folium.CircleMarker([lat, lon], radius=2, color='blue', fill=True, fill_color='blue', fill_opacity=1).add_to(map_berlin)\nfolium.GeoJson(berlin_boroughs, style_function=boroughs_style, name='geojson').add_to(map_berlin)\nmap_berlin"
        },
        {
            "cell_type": "code",
            "execution_count": null,
            "metadata": {},
            "outputs": [],
            "source": "map_berlin = folium.Map(location=[52.516347, 13.428403], zoom_start=15)\nfolium.Marker(berlin_center).add_to(map_berlin)\nfor lon, lat in cluster_centers:\n    folium.Circle([lat, lon], radius=500, color='green', fill=False).add_to(map_berlin) \nfor lat, lon in zip(good_latitudes, good_longitudes):\n    folium.Circle([lat, lon], radius=250, color='#0000ff00', fill=True, fill_color='#0066ff', fill_opacity=0.07).add_to(map_berlin)\nfor lat, lon in zip(good_latitudes, good_longitudes):\n    folium.CircleMarker([lat, lon], radius=2, color='blue', fill=True, fill_color='blue', fill_opacity=1).add_to(map_berlin)\nfolium.GeoJson(berlin_boroughs, style_function=boroughs_style, name='geojson').add_to(map_berlin)\nmap_berlin"
        },
        {
            "cell_type": "code",
            "execution_count": null,
            "metadata": {},
            "outputs": [],
            "source": "candidate_area_addresses = []\nprint('==============================================================')\nprint('Addresses of centers of areas recommended for further analysis')\nprint('==============================================================\\n')\nfor lon, lat in cluster_centers:\n    addr = get_address(google_api_key, lat, lon).replace(', Germany', '')\n    candidate_area_addresses.append(addr)    \n    x, y = lonlat_to_xy(lon, lat)\n    d = calc_xy_distance(x, y, berlin_center_x, berlin_center_y)\n    print('{}{} => {:.1f}km from Alexanderplatz'.format(addr, ' '*(50-len(addr)), d/1000))"
        },
        {
            "cell_type": "code",
            "execution_count": null,
            "metadata": {},
            "outputs": [],
            "source": "map_berlin = folium.Map(location=roi_center, zoom_start=14)\nfolium.Circle(berlin_center, radius=50, color='red', fill=True, fill_color='red', fill_opacity=1).add_to(map_berlin)\nfor lonlat, addr in zip(cluster_centers, candidate_area_addresses):\n    folium.Marker([lonlat[1], lonlat[0]], popup=addr).add_to(map_berlin) \nfor lat, lon in zip(good_latitudes, good_longitudes):\n    folium.Circle([lat, lon], radius=250, color='#0000ff00', fill=True, fill_color='#0066ff', fill_opacity=0.05).add_to(map_berlin)\nmap_berlin"
        },
        {
            "cell_type": "markdown",
            "metadata": {},
            "source": "## Results and Discussion \nOur analysis shows that although there is a great number of restaurants in Berlin (~2000 in our initial area of interest which was 12x12km around Alexanderplatz), there are pockets of low restaurant density fairly close to city center. Highest concentration of restaurants was detected north and west from Alexanderplatz, so we focused our attention to areas south, south-east and east, corresponding to boroughs Kreuzberg, Friedrichshain and south-east corner of central Mitte borough. Another borough was identified as potentially interesting (Prenzlauer Berg, north-east from Alexanderplatz), but our attention was focused on Kreuzberg and Friedrichshain which offer a combination of popularity among tourists, closeness to city center, strong socio-economic dynamics and a number of pockets of low restaurant density.\n\nAfter directing our attention to this more narrow area of interest (covering approx. 5x5km south-east from Alexanderplatz) we first created a dense grid of location candidates (spaced 100m appart); those locations were then filtered so that those with more than two restaurants in radius of 250m and those with an Italian restaurant closer than 400m were removed.\n\nThose location candidates were then clustered to create zones of interest which contain greatest number of location candidates. Addresses of centers of those zones were also generated using reverse geocoding to be used as markers/starting points for more detailed local analysis based on other factors.\n\nResult of all this is 15 zones containing largest number of potential new restaurant locations based on number of and distance to existing venues - both restaurants in general and Italian restaurants particularly. This, of course, does not imply that those zones are actually optimal locations for a new restaurant! Purpose of this analysis was to only provide info on areas close to Berlin center but not crowded with existing restaurants (particularly Italian) - it is entirely possible that there is a very good reason for small number of restaurants in any of those areas, reasons which would make them unsuitable for a new restaurant regardless of lack of competition in the area. Recommended zones should therefore be considered only as a starting point for more detailed analysis which could eventually result in location which has not only no nearby competition but also other factors taken into account and all other relevant conditions met.\n\n### Conclusion \nPurpose of this project was to identify Berlin areas close to center with low number of restaurants (particularly Italian restaurants) in order to aid stakeholders in narrowing down the search for optimal location for a new Italian restaurant. By calculating restaurant density distribution from Foursquare data we have first identified general boroughs that justify further analysis (Kreuzberg and Friedrichshain), and then generated extensive collection of locations which satisfy some basic requirements regarding existing nearby restaurants. Clustering of those locations was then performed in order to create major zones of interest (containing greatest number of potential locations) and addresses of those zone centers were created to be used as starting points for final exploration by stakeholders.\n\nFinal decission on optimal restaurant location will be made by stakeholders based on specific characteristics of neighborhoods and locations in every recommended zone, taking into consideration additional factors like attractiveness of each location (proximity to park or water), levels of noise / proximity to major roads, real estate availability, prices, social and economic dynamics of every neighborhood etc."
        },
        {
            "cell_type": "code",
            "execution_count": null,
            "metadata": {},
            "outputs": [],
            "source": ""
        }
    ],
    "metadata": {
        "kernelspec": {
            "display_name": "Python 3.6",
            "language": "python",
            "name": "python3"
        },
        "language_info": {
            "codemirror_mode": {
                "name": "ipython",
                "version": 3
            },
            "file_extension": ".py",
            "mimetype": "text/x-python",
            "name": "python",
            "nbconvert_exporter": "python",
            "pygments_lexer": "ipython3",
            "version": "3.6.8"
        }
    },
    "nbformat": 4,
    "nbformat_minor": 1
}